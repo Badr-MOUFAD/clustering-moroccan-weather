{
 "cells": [
  {
   "cell_type": "code",
   "execution_count": 1,
   "source": [
    "# set root directory\r\n",
    "import os\r\n",
    "\r\n",
    "os.chdir('../')\r\n",
    "os.getcwd()"
   ],
   "outputs": [
    {
     "output_type": "execute_result",
     "data": {
      "text/plain": [
       "'c:\\\\Users\\\\HP\\\\Desktop\\\\clustering-moroccan-weather-data'"
      ]
     },
     "metadata": {},
     "execution_count": 1
    }
   ],
   "metadata": {}
  },
  {
   "cell_type": "code",
   "execution_count": 2,
   "source": [
    "# imports\r\n",
    "import numpy as np\r\n",
    "import pandas as pd"
   ],
   "outputs": [],
   "metadata": {}
  },
  {
   "cell_type": "code",
   "execution_count": 3,
   "source": [
    "# imports for plots\r\n",
    "from plotly import graph_objects as go\r\n",
    "import plotly.express as px\r\n",
    "from plotly.subplots import make_subplots\r\n",
    "import plotly.io as pio\r\n",
    "\r\n",
    "pio.templates.default = \"plotly_white\""
   ],
   "outputs": [],
   "metadata": {}
  },
  {
   "cell_type": "code",
   "execution_count": 4,
   "source": [
    "# general params\r\n",
    "LAT_SIDI_SLIMANE = -5.9240\r\n",
    "LON_SIDI_SLIMANE = 34.2623\r\n",
    "SPACIAL_RESOLUTION_SATELLITE = 0.25\r\n",
    "\r\n",
    "# for invariant lat \r\n",
    "SUP_BOUNDARY = 35.8\r\n",
    "INF_BOUNDARY = 29.65\r\n",
    "\r\n",
    "nb_crop_years = 39"
   ],
   "outputs": [],
   "metadata": {}
  },
  {
   "cell_type": "code",
   "execution_count": 5,
   "source": [
    "nb_locations = int((SUP_BOUNDARY - INF_BOUNDARY) / SPACIAL_RESOLUTION_SATELLITE)\r\n",
    "arr_lon = np.linspace(INF_BOUNDARY, SUP_BOUNDARY, nb_locations)\r\n",
    "\r\n",
    "arr_lon"
   ],
   "outputs": [
    {
     "output_type": "execute_result",
     "data": {
      "text/plain": [
       "array([29.65      , 29.9173913 , 30.18478261, 30.45217391, 30.71956522,\n",
       "       30.98695652, 31.25434783, 31.52173913, 31.78913043, 32.05652174,\n",
       "       32.32391304, 32.59130435, 32.85869565, 33.12608696, 33.39347826,\n",
       "       33.66086957, 33.92826087, 34.19565217, 34.46304348, 34.73043478,\n",
       "       34.99782609, 35.26521739, 35.5326087 , 35.8       ])"
      ]
     },
     "metadata": {},
     "execution_count": 5
    }
   ],
   "metadata": {}
  },
  {
   "cell_type": "code",
   "execution_count": 6,
   "source": [
    "# import modules\r\n",
    "from py_scripts.fetch import LocationWeather\r\n",
    "from py_scripts.process import process_data\r\n",
    "from py_scripts.clustering import multivariate_clustering\r\n",
    "\r\n",
    "# test for 3 cities\r\n",
    "for lon in arr_lon:\r\n",
    "    lat = LAT_SIDI_SLIMANE\r\n",
    "\r\n",
    "    # fetch and process data\r\n",
    "    raw_data = LocationWeather(lat, lon).weather_data_frame\r\n",
    "    processed_data = process_data(raw_data)\r\n",
    "\r\n",
    "    # cluster data\r\n",
    "    dict_clusters = multivariate_clustering(processed_data)\r\n",
    "\r\n",
    "    # prepare data frame\r\n",
    "    rg = range(nb_crop_years)\r\n",
    "    df_location = pd.DataFrame(\r\n",
    "        { \r\n",
    "            \"lat\": [lat for i in rg],\r\n",
    "            \"lon\": [lon for i in rg],\r\n",
    "        }\r\n",
    "    )\r\n",
    "\r\n",
    "    # form year and cluster cols\r\n",
    "    dict_year_cluster = { \"year\": [], \"cluster\": [] }\r\n",
    "    for cluster_name, cluster_years in dict_clusters.items():\r\n",
    "        dict_year_cluster[\"year\"] += list(cluster_years)\r\n",
    "        dict_year_cluster[\"cluster\"] += [cluster_name for i in range(len(cluster_years))]\r\n",
    "\r\n",
    "    # add them cols to df\r\n",
    "    df_location = df_location.join(pd.DataFrame(dict_year_cluster))\r\n",
    "\r\n",
    "    # save df\r\n",
    "    df_location.to_csv(f\"data_inv_lat/{lon};{lat}.csv\", index=False)"
   ],
   "outputs": [],
   "metadata": {}
  },
  {
   "cell_type": "code",
   "execution_count": 7,
   "source": [
    "# for invariant lon\r\n",
    "\r\n",
    "SUP_BOUNDARY = -1.70\r\n",
    "INF_BOUNDARY = -6.65\r\n",
    "\r\n",
    "nb_locations = int((SUP_BOUNDARY - INF_BOUNDARY) / SPACIAL_RESOLUTION_SATELLITE)\r\n",
    "arr_lat = np.linspace(INF_BOUNDARY, SUP_BOUNDARY, nb_locations)\r\n",
    "\r\n",
    "arr_lat"
   ],
   "outputs": [
    {
     "output_type": "execute_result",
     "data": {
      "text/plain": [
       "array([-6.65 , -6.375, -6.1  , -5.825, -5.55 , -5.275, -5.   , -4.725,\n",
       "       -4.45 , -4.175, -3.9  , -3.625, -3.35 , -3.075, -2.8  , -2.525,\n",
       "       -2.25 , -1.975, -1.7  ])"
      ]
     },
     "metadata": {},
     "execution_count": 7
    }
   ],
   "metadata": {}
  },
  {
   "cell_type": "code",
   "execution_count": 8,
   "source": [
    "# test for 3 cities\r\n",
    "for lat in arr_lat:\r\n",
    "    lon = LON_SIDI_SLIMANE\r\n",
    "\r\n",
    "    # fetch and process data\r\n",
    "    raw_data = LocationWeather(lat, lon).weather_data_frame\r\n",
    "    processed_data = process_data(raw_data)\r\n",
    "\r\n",
    "    # cluster data\r\n",
    "    dict_clusters = multivariate_clustering(processed_data)\r\n",
    "\r\n",
    "    # prepare data frame\r\n",
    "    rg = range(nb_crop_years)\r\n",
    "    df_location = pd.DataFrame(\r\n",
    "        { \r\n",
    "            \"lat\": [lat for i in rg],\r\n",
    "            \"lon\": [lon for i in rg],\r\n",
    "        }\r\n",
    "    )\r\n",
    "\r\n",
    "    # form year and cluster cols\r\n",
    "    dict_year_cluster = { \"year\": [], \"cluster\": [] }\r\n",
    "    for cluster_name, cluster_years in dict_clusters.items():\r\n",
    "        dict_year_cluster[\"year\"] += list(cluster_years)\r\n",
    "        dict_year_cluster[\"cluster\"] += [cluster_name for i in range(len(cluster_years))]\r\n",
    "\r\n",
    "    # add them cols to df\r\n",
    "    df_location = df_location.join(pd.DataFrame(dict_year_cluster))\r\n",
    "\r\n",
    "    # save df\r\n",
    "    df_location.to_csv(f\"data_inv_lon/{lon};{lat}.csv\", index=False)"
   ],
   "outputs": [],
   "metadata": {}
  }
 ],
 "metadata": {
  "orig_nbformat": 4,
  "language_info": {
   "name": "python",
   "version": "3.8.5",
   "mimetype": "text/x-python",
   "codemirror_mode": {
    "name": "ipython",
    "version": 3
   },
   "pygments_lexer": "ipython3",
   "nbconvert_exporter": "python",
   "file_extension": ".py"
  },
  "kernelspec": {
   "name": "python3",
   "display_name": "Python 3.8.5 64-bit ('base': conda)"
  },
  "interpreter": {
   "hash": "1e915f0a29dc84041eaeb02b7b1a21c440e37a87b61d44d5e84a515737dc82bc"
  }
 },
 "nbformat": 4,
 "nbformat_minor": 2
}