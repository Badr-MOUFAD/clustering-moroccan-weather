{
 "cells": [
  {
   "cell_type": "code",
   "execution_count": 1,
   "source": [
    "# set root directory\r\n",
    "import os\r\n",
    "\r\n",
    "os.chdir('../')\r\n",
    "os.getcwd()"
   ],
   "outputs": [
    {
     "output_type": "execute_result",
     "data": {
      "text/plain": [
       "'c:\\\\Users\\\\HP\\\\Desktop\\\\clustering-moroccan-weather-data'"
      ]
     },
     "metadata": {},
     "execution_count": 1
    }
   ],
   "metadata": {}
  },
  {
   "cell_type": "code",
   "execution_count": 2,
   "source": [
    "# imports\r\n",
    "import numpy as np\r\n",
    "import pandas as pd"
   ],
   "outputs": [],
   "metadata": {}
  },
  {
   "cell_type": "code",
   "execution_count": 3,
   "source": [
    "# imports for plots\r\n",
    "from plotly import graph_objects as go\r\n",
    "import plotly.express as px\r\n",
    "from plotly.subplots import make_subplots\r\n",
    "import plotly.io as pio\r\n",
    "\r\n",
    "pio.templates.default = \"plotly_white\""
   ],
   "outputs": [],
   "metadata": {}
  },
  {
   "cell_type": "code",
   "execution_count": 4,
   "source": [
    "# load moroccan cities data\r\n",
    "moroccan_cities = pd.read_csv(\"processed_data/moroccan_cities.csv\")"
   ],
   "outputs": [],
   "metadata": {}
  },
  {
   "cell_type": "code",
   "execution_count": 5,
   "source": [
    "moroccan_cities"
   ],
   "outputs": [
    {
     "output_type": "execute_result",
     "data": {
      "text/plain": [
       "         lat      lon                   city_name\n",
       "0    33.5992  -7.6200                  Casablanca\n",
       "1    32.0500  -7.4000        El Kelaa des Srarhna\n",
       "2    34.0433  -5.0033                         Fes\n",
       "3    34.0253  -6.8361                       Rabat\n",
       "4    26.0928 -10.6089                    Tifariti\n",
       "..       ...      ...                         ...\n",
       "693  30.6142  -5.5223                 Ait Athmane\n",
       "694  29.1228  -9.5992              Timoulay Izder\n",
       "695  35.6519  -5.7328                    Ez Zinat\n",
       "696  30.6450  -5.8386                   Tafetchna\n",
       "697  32.8938  -6.2450  Souk el Had-des Beni-Batao\n",
       "\n",
       "[698 rows x 3 columns]"
      ],
      "text/html": [
       "<div>\n",
       "<style scoped>\n",
       "    .dataframe tbody tr th:only-of-type {\n",
       "        vertical-align: middle;\n",
       "    }\n",
       "\n",
       "    .dataframe tbody tr th {\n",
       "        vertical-align: top;\n",
       "    }\n",
       "\n",
       "    .dataframe thead th {\n",
       "        text-align: right;\n",
       "    }\n",
       "</style>\n",
       "<table border=\"1\" class=\"dataframe\">\n",
       "  <thead>\n",
       "    <tr style=\"text-align: right;\">\n",
       "      <th></th>\n",
       "      <th>lat</th>\n",
       "      <th>lon</th>\n",
       "      <th>city_name</th>\n",
       "    </tr>\n",
       "  </thead>\n",
       "  <tbody>\n",
       "    <tr>\n",
       "      <th>0</th>\n",
       "      <td>33.5992</td>\n",
       "      <td>-7.6200</td>\n",
       "      <td>Casablanca</td>\n",
       "    </tr>\n",
       "    <tr>\n",
       "      <th>1</th>\n",
       "      <td>32.0500</td>\n",
       "      <td>-7.4000</td>\n",
       "      <td>El Kelaa des Srarhna</td>\n",
       "    </tr>\n",
       "    <tr>\n",
       "      <th>2</th>\n",
       "      <td>34.0433</td>\n",
       "      <td>-5.0033</td>\n",
       "      <td>Fes</td>\n",
       "    </tr>\n",
       "    <tr>\n",
       "      <th>3</th>\n",
       "      <td>34.0253</td>\n",
       "      <td>-6.8361</td>\n",
       "      <td>Rabat</td>\n",
       "    </tr>\n",
       "    <tr>\n",
       "      <th>4</th>\n",
       "      <td>26.0928</td>\n",
       "      <td>-10.6089</td>\n",
       "      <td>Tifariti</td>\n",
       "    </tr>\n",
       "    <tr>\n",
       "      <th>...</th>\n",
       "      <td>...</td>\n",
       "      <td>...</td>\n",
       "      <td>...</td>\n",
       "    </tr>\n",
       "    <tr>\n",
       "      <th>693</th>\n",
       "      <td>30.6142</td>\n",
       "      <td>-5.5223</td>\n",
       "      <td>Ait Athmane</td>\n",
       "    </tr>\n",
       "    <tr>\n",
       "      <th>694</th>\n",
       "      <td>29.1228</td>\n",
       "      <td>-9.5992</td>\n",
       "      <td>Timoulay Izder</td>\n",
       "    </tr>\n",
       "    <tr>\n",
       "      <th>695</th>\n",
       "      <td>35.6519</td>\n",
       "      <td>-5.7328</td>\n",
       "      <td>Ez Zinat</td>\n",
       "    </tr>\n",
       "    <tr>\n",
       "      <th>696</th>\n",
       "      <td>30.6450</td>\n",
       "      <td>-5.8386</td>\n",
       "      <td>Tafetchna</td>\n",
       "    </tr>\n",
       "    <tr>\n",
       "      <th>697</th>\n",
       "      <td>32.8938</td>\n",
       "      <td>-6.2450</td>\n",
       "      <td>Souk el Had-des Beni-Batao</td>\n",
       "    </tr>\n",
       "  </tbody>\n",
       "</table>\n",
       "<p>698 rows × 3 columns</p>\n",
       "</div>"
      ]
     },
     "metadata": {},
     "execution_count": 5
    }
   ],
   "metadata": {}
  },
  {
   "cell_type": "code",
   "execution_count": 6,
   "source": [
    "# general params\r\n",
    "col_name = \"cumulative_PRECTOT\"\r\n",
    "nb_crop_years = 39"
   ],
   "outputs": [],
   "metadata": {}
  },
  {
   "cell_type": "code",
   "execution_count": 7,
   "source": [
    "# # import modules\r\n",
    "# from py_scripts.fetch import LocationWeather\r\n",
    "# from py_scripts.process import process_data\r\n",
    "# from py_scripts.clustering import multivariate_clustering\r\n",
    "\r\n",
    "# # test for 3 cities\r\n",
    "# for i in range(308, 416):\r\n",
    "#     lat = moroccan_cities[\"lat\"][i]\r\n",
    "#     lon = moroccan_cities[\"lon\"][i]\r\n",
    "#     city_name = moroccan_cities[\"city_name\"][i]\r\n",
    "\r\n",
    "#     # fetch and process data\r\n",
    "#     raw_data = LocationWeather(lat, lon).weather_data_frame\r\n",
    "#     processed_data = process_data(raw_data)\r\n",
    "\r\n",
    "#     # cluster data\r\n",
    "#     dict_clusters = multivariate_clustering(processed_data)\r\n",
    "\r\n",
    "#     # prepare data frame\r\n",
    "#     rg = range(nb_crop_years)\r\n",
    "#     df_location = pd.DataFrame(\r\n",
    "#         { \r\n",
    "#             \"lat\": [lat for i in rg],\r\n",
    "#             \"lon\": [lon for i in rg],\r\n",
    "#             \"city_name\": [city_name for i in rg] \r\n",
    "#         }\r\n",
    "#     )\r\n",
    "\r\n",
    "#     # form year and cluster cols\r\n",
    "#     dict_year_cluster = { \"year\": [], \"cluster\": [] }\r\n",
    "#     for cluster_name, cluster_years in dict_clusters.items():\r\n",
    "#         dict_year_cluster[\"year\"] += list(cluster_years)\r\n",
    "#         dict_year_cluster[\"cluster\"] += [cluster_name for i in range(len(cluster_years))]\r\n",
    "\r\n",
    "#     # add them cols to df\r\n",
    "#     df_location = df_location.join(pd.DataFrame(dict_year_cluster))\r\n",
    "\r\n",
    "#     # save df\r\n",
    "#     df_location.to_csv(f\"data_multi_cluster_morocco/{city_name}.csv\", index=False)"
   ],
   "outputs": [],
   "metadata": {}
  }
 ],
 "metadata": {
  "orig_nbformat": 4,
  "language_info": {
   "name": "python",
   "version": "3.8.5",
   "mimetype": "text/x-python",
   "codemirror_mode": {
    "name": "ipython",
    "version": 3
   },
   "pygments_lexer": "ipython3",
   "nbconvert_exporter": "python",
   "file_extension": ".py"
  },
  "kernelspec": {
   "name": "python3",
   "display_name": "Python 3.8.5 64-bit ('base': conda)"
  },
  "interpreter": {
   "hash": "1e915f0a29dc84041eaeb02b7b1a21c440e37a87b61d44d5e84a515737dc82bc"
  }
 },
 "nbformat": 4,
 "nbformat_minor": 2
}