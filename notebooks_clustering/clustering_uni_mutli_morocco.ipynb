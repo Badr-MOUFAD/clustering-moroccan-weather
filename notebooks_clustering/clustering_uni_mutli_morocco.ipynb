{
 "cells": [
  {
   "cell_type": "code",
   "execution_count": 1,
   "source": [
    "# set root directory\r\n",
    "import os\r\n",
    "\r\n",
    "os.chdir('../')\r\n",
    "os.getcwd()"
   ],
   "outputs": [
    {
     "output_type": "execute_result",
     "data": {
      "text/plain": [
       "'c:\\\\Users\\\\HP\\\\Desktop\\\\clustering-moroccan-weather-data'"
      ]
     },
     "metadata": {},
     "execution_count": 1
    }
   ],
   "metadata": {}
  },
  {
   "cell_type": "code",
   "execution_count": 2,
   "source": [
    "# imports\r\n",
    "import numpy as np\r\n",
    "import pandas as pd"
   ],
   "outputs": [],
   "metadata": {}
  },
  {
   "cell_type": "code",
   "execution_count": 3,
   "source": [
    "# imports for plots\r\n",
    "from plotly import graph_objects as go\r\n",
    "import plotly.express as px\r\n",
    "from plotly.subplots import make_subplots\r\n",
    "import plotly.io as pio\r\n",
    "\r\n",
    "pio.templates.default = \"plotly_white\""
   ],
   "outputs": [],
   "metadata": {}
  },
  {
   "cell_type": "code",
   "execution_count": 4,
   "source": [
    "# load morocco cities\r\n",
    "morocco_cities = pd.read_csv(\"processed_data/moroccan_cities.csv\")"
   ],
   "outputs": [],
   "metadata": {}
  },
  {
   "cell_type": "code",
   "execution_count": 5,
   "source": [
    "# pick randomly 50 moroccan cities\r\n",
    "nb_locations = 50\r\n",
    "\r\n",
    "np.random.seed(11111111)\r\n",
    "arr_index = np.random.random_integers(0, len(morocco_cities), nb_locations)\r\n",
    "\r\n",
    "arr_index"
   ],
   "outputs": [
    {
     "output_type": "stream",
     "name": "stderr",
     "text": [
      "<ipython-input-5-09d49e779fbd>:5: DeprecationWarning: This function is deprecated. Please call randint(0, 698 + 1) instead\n",
      "  arr_index = np.random.random_integers(0, len(morocco_cities), nb_locations)\n"
     ]
    },
    {
     "output_type": "execute_result",
     "data": {
      "text/plain": [
       "array([525, 332, 150, 667, 486, 352, 228, 628, 528, 382, 696,  52, 272,\n",
       "       377, 131, 175, 566, 183, 655, 168, 388, 589, 361, 473,  95, 294,\n",
       "       437, 217, 600, 656, 171, 642, 497, 225, 125, 469, 679, 510, 674,\n",
       "       565,  33, 229, 262, 455, 308, 514, 490, 623, 494, 590])"
      ]
     },
     "metadata": {},
     "execution_count": 5
    }
   ],
   "metadata": {}
  },
  {
   "cell_type": "code",
   "execution_count": 6,
   "source": [
    "len(set(arr_index))"
   ],
   "outputs": [
    {
     "output_type": "execute_result",
     "data": {
      "text/plain": [
       "50"
      ]
     },
     "metadata": {},
     "execution_count": 6
    }
   ],
   "metadata": {}
  },
  {
   "cell_type": "code",
   "execution_count": 7,
   "source": [
    "weather_var = \"cumulative_PRECTOT\""
   ],
   "outputs": [],
   "metadata": {}
  },
  {
   "cell_type": "code",
   "execution_count": 9,
   "source": [
    "# # perform uni and multi variate clustering on these locations\r\n",
    "from py_scripts.fetch import LocationWeather\r\n",
    "from py_scripts.process import process_data\r\n",
    "from py_scripts.clustering import univariate_clustering, multivariate_clustering\r\n",
    "\r\n",
    "for i in list(arr_index) + [36, 19]: # add Sidi Sliman and Beni Mellal\r\n",
    "    lat = morocco_cities[\"lat\"][i]\r\n",
    "    lon = morocco_cities[\"lon\"][i]\r\n",
    "    city_name = morocco_cities[\"city_name\"][i]\r\n",
    "\r\n",
    "    # fetch and process data\r\n",
    "    raw_data = LocationWeather(lat, lon).weather_data_frame\r\n",
    "    processed_data = process_data(raw_data)\r\n",
    "\r\n",
    "    # uni and mutli var clustering\r\n",
    "    dict_uni = univariate_clustering(processed_data, weather_var)\r\n",
    "    dict_multi = multivariate_clustering(processed_data)\r\n",
    "\r\n",
    "    dict_uni_multi_clusters = { \"uni\": dict_uni, \"multi\": dict_multi }\r\n",
    "\r\n",
    "    # save dict\r\n",
    "    np.save(f\"data_uni_multi_cluster_morocco/{city_name}.npy\", dict_uni_multi_clusters)"
   ],
   "outputs": [],
   "metadata": {}
  },
  {
   "cell_type": "code",
   "execution_count": 11,
   "source": [
    "# load data uni multi var clustering for each location\r\n",
    "import os\r\n",
    "\r\n",
    "dir_name = \"data_uni_multi_cluster_morocco/\"\r\n",
    "dict_location_data = {}\r\n",
    "\r\n",
    "for filename in os.listdir(dir_name):\r\n",
    "    location_name = filename.split(\".\")[0]\r\n",
    "    path = dir_name + filename\r\n",
    "\r\n",
    "    dict_location_data[location_name] = np.load(path, allow_pickle='TRUE').item()"
   ],
   "outputs": [],
   "metadata": {}
  },
  {
   "cell_type": "code",
   "execution_count": 12,
   "source": [
    "dict_location_data['Douar Souk L`qolla'][\"uni\"][\"High\"].drop(dict_location_data['Douar Souk L`qolla'][\"multi\"][\"High\"])"
   ],
   "outputs": [
    {
     "output_type": "execute_result",
     "data": {
      "text/plain": [
       "Index(['1990', '1991', '1997', '1998', '2001', '2003', '2004', '2009', '2011',\n",
       "       '2013', '2018'],\n",
       "      dtype='object')"
      ]
     },
     "metadata": {},
     "execution_count": 12
    }
   ],
   "metadata": {}
  },
  {
   "cell_type": "code",
   "execution_count": 13,
   "source": [
    "# to check if clusters are identical\r\n",
    "# def is_identical(data_region, cluster_name):\r\n",
    "#     try:\r\n",
    "#         data_region[\"uni\"][cluster_name].drop(data_region[\"multi\"][cluster_name])\r\n",
    "#     except:\r\n",
    "#         return False\r\n",
    "\r\n",
    "#     return True\r\n",
    "\r\n",
    "def is_identical(data_region, cluster_name):\r\n",
    "    max_n = max(len(data_region[\"uni\"][cluster_name]), len(data_region[\"multi\"][cluster_name]))\r\n",
    "    inter_n = len(data_region[\"uni\"][cluster_name].intersection(data_region[\"multi\"][cluster_name]))\r\n",
    "\r\n",
    "    return (max_n - inter_n) <= 2\r\n",
    "\r\n",
    "is_identical(dict_location_data['Afourar'], \"Medium\")"
   ],
   "outputs": [
    {
     "output_type": "execute_result",
     "data": {
      "text/plain": [
       "True"
      ]
     },
     "metadata": {},
     "execution_count": 13
    }
   ],
   "metadata": {}
  },
  {
   "cell_type": "code",
   "execution_count": 14,
   "source": [
    "dict_prec_dominence = {}\r\n",
    "\r\n",
    "for city_name, data_city in dict_location_data.items():\r\n",
    "    if False in [is_identical(data_city, cluster_name=label) for label in [\"High\", \"Medium\", \"Low\"]]:\r\n",
    "        dict_prec_dominence[city_name] = 0\r\n",
    "    else:\r\n",
    "        dict_prec_dominence[city_name] = 1"
   ],
   "outputs": [],
   "metadata": {}
  },
  {
   "cell_type": "code",
   "execution_count": 15,
   "source": [
    "dict_prec_dominence.values()"
   ],
   "outputs": [
    {
     "output_type": "execute_result",
     "data": {
      "text/plain": [
       "dict_values([1, 0, 1, 1, 0, 1, 1, 1, 0, 0, 0, 0, 1, 1, 0, 1, 0, 0, 1, 1, 0, 0, 0, 1, 0, 1, 1, 1, 1, 1, 0, 1, 1, 0, 1, 0, 1, 1, 1, 0, 1, 1, 1, 1, 1, 1, 1, 0, 0, 0, 0, 1])"
      ]
     },
     "metadata": {},
     "execution_count": 15
    }
   ],
   "metadata": {}
  },
  {
   "cell_type": "code",
   "execution_count": null,
   "source": [
    "# # check for Sidi Slimane\r\n",
    "\r\n",
    "# data = morocco_cities[morocco_cities[\"city_name\"] == \"Beni Mellal\"]\r\n",
    "\r\n",
    "# lat = data[\"lat\"].values[0]\r\n",
    "# lon = data[\"lon\"].values[0]\r\n",
    "# city_name = data[\"city_name\"].values[0]\r\n",
    "\r\n",
    "# # fetch and process data\r\n",
    "# raw_data = LocationWeather(lat, lon).weather_data_frame\r\n",
    "# processed_data = process_data(raw_data)\r\n",
    "\r\n",
    "# # uni and mutli var clustering\r\n",
    "# dict_uni = univariate_clustering(processed_data, weather_var)\r\n",
    "# dict_multi = multivariate_clustering(processed_data)\r\n",
    "\r\n",
    "# dict_uni_multi_clusters = { \"uni\": dict_uni, \"multi\": dict_multi }\r\n",
    "\r\n",
    "# # save dict\r\n",
    "# np.save(f\"data_uni_multi_cluster_morocco/{city_name}.npy\", dict_uni_multi_clusters)"
   ],
   "outputs": [],
   "metadata": {}
  },
  {
   "cell_type": "code",
   "execution_count": null,
   "source": [
    "# is_identical(dict_uni_multi_clusters, \"Low\")"
   ],
   "outputs": [
    {
     "output_type": "execute_result",
     "data": {
      "text/plain": [
       "(20, 8)"
      ]
     },
     "metadata": {},
     "execution_count": 81
    }
   ],
   "metadata": {}
  },
  {
   "cell_type": "code",
   "execution_count": null,
   "source": [
    "# print(len(dict_uni_multi_clusters[\"multi\"] [\"Low\"]) + len(dict_uni_multi_clusters[\"multi\"] [\"Medium\"]) + len(dict_uni_multi_clusters[\"multi\"] [\"High\"]))\r\n"
   ],
   "outputs": [
    {
     "output_type": "stream",
     "name": "stdout",
     "text": [
      "39\n"
     ]
    }
   ],
   "metadata": {}
  },
  {
   "cell_type": "code",
   "execution_count": 20,
   "source": [
    "print(dict_location_data[\"Beni Mellal\"][\"multi\"][\"Low\"])\r\n",
    "print(dict_location_data[\"Beni Mellal\"][\"uni\"]  [\"Low\"])"
   ],
   "outputs": [
    {
     "output_type": "stream",
     "name": "stdout",
     "text": [
      "Index(['1983', '1984', '1985', '1986', '1992', '1993', '1995', '1998', '1999',\n",
      "       '2000', '2001', '2002', '2004', '2005', '2007', '2008', '2014', '2016',\n",
      "       '2017', '2018', '2019', '2020'],\n",
      "      dtype='object')\n",
      "Index(['1983', '1984', '1985', '1986', '1992', '1993', '1995', '1999', '2000',\n",
      "       '2002', '2005', '2007', '2014', '2016', '2017', '2018', '2019', '2020'],\n",
      "      dtype='object')\n"
     ]
    }
   ],
   "metadata": {}
  },
  {
   "cell_type": "code",
   "execution_count": null,
   "source": [
    "# data = dict_location_data[\"Sidi Slimane\"]\r\n",
    "\r\n",
    "# print(data[\"uni\"][\"Low\"])\r\n",
    "# print(data[\"multi\"][\"Low\"])"
   ],
   "outputs": [
    {
     "output_type": "stream",
     "name": "stdout",
     "text": [
      "Index(['1983', '1984', '1985', '1986', '1987', '1988', '1989', '1992', '1993',\n",
      "       '1994', '1995', '1999', '2000', '2002', '2005', '2007', '2008', '2014',\n",
      "       '2016', '2020'],\n",
      "      dtype='object')\n",
      "Index(['1985', '1992', '1993', '1995', '1999', '2000', '2005', '2016'], dtype='object')\n"
     ]
    }
   ],
   "metadata": {}
  },
  {
   "cell_type": "code",
   "execution_count": null,
   "source": [
    "# morocco_cities[morocco_cities[\"city_name\"] == \"Beni Mellal\"]"
   ],
   "outputs": [
    {
     "output_type": "execute_result",
     "data": {
      "text/plain": [
       "        lat     lon    city_name\n",
       "19  32.3394 -6.3608  Beni Mellal"
      ],
      "text/html": [
       "<div>\n",
       "<style scoped>\n",
       "    .dataframe tbody tr th:only-of-type {\n",
       "        vertical-align: middle;\n",
       "    }\n",
       "\n",
       "    .dataframe tbody tr th {\n",
       "        vertical-align: top;\n",
       "    }\n",
       "\n",
       "    .dataframe thead th {\n",
       "        text-align: right;\n",
       "    }\n",
       "</style>\n",
       "<table border=\"1\" class=\"dataframe\">\n",
       "  <thead>\n",
       "    <tr style=\"text-align: right;\">\n",
       "      <th></th>\n",
       "      <th>lat</th>\n",
       "      <th>lon</th>\n",
       "      <th>city_name</th>\n",
       "    </tr>\n",
       "  </thead>\n",
       "  <tbody>\n",
       "    <tr>\n",
       "      <th>19</th>\n",
       "      <td>32.3394</td>\n",
       "      <td>-6.3608</td>\n",
       "      <td>Beni Mellal</td>\n",
       "    </tr>\n",
       "  </tbody>\n",
       "</table>\n",
       "</div>"
      ]
     },
     "metadata": {},
     "execution_count": 25
    }
   ],
   "metadata": {}
  },
  {
   "cell_type": "code",
   "execution_count": 26,
   "source": [
    "estimator = len([item for item in dict_prec_dominence.values() if item]) / len(dict_prec_dominence)"
   ],
   "outputs": [],
   "metadata": {}
  },
  {
   "cell_type": "code",
   "execution_count": 36,
   "source": [
    "from scipy import stats\r\n",
    "\r\n",
    "z = np.sqrt(52) * (estimator - 0.9) / np.sqrt(0.9 * 0.1)\r\n",
    "\r\n",
    "stats.norm.sf(z)"
   ],
   "outputs": [
    {
     "output_type": "execute_result",
     "data": {
      "text/plain": [
       "0.9999999999998599"
      ]
     },
     "metadata": {},
     "execution_count": 36
    }
   ],
   "metadata": {}
  }
 ],
 "metadata": {
  "orig_nbformat": 4,
  "language_info": {
   "name": "python",
   "version": "3.8.5",
   "mimetype": "text/x-python",
   "codemirror_mode": {
    "name": "ipython",
    "version": 3
   },
   "pygments_lexer": "ipython3",
   "nbconvert_exporter": "python",
   "file_extension": ".py"
  },
  "kernelspec": {
   "name": "python3",
   "display_name": "Python 3.8.5 64-bit ('base': conda)"
  },
  "interpreter": {
   "hash": "1e915f0a29dc84041eaeb02b7b1a21c440e37a87b61d44d5e84a515737dc82bc"
  }
 },
 "nbformat": 4,
 "nbformat_minor": 2
}