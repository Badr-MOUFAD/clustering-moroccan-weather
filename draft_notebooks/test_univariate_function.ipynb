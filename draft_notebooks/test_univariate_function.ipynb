{
 "cells": [
  {
   "cell_type": "code",
   "execution_count": 1,
   "source": [
    "# set root directory\r\n",
    "import os\r\n",
    "\r\n",
    "os.chdir(\"../\")\r\n",
    "os.getcwd()"
   ],
   "outputs": [
    {
     "output_type": "execute_result",
     "data": {
      "text/plain": [
       "'c:\\\\Users\\\\HP\\\\Desktop\\\\clustering-moroccan-weather-data'"
      ]
     },
     "metadata": {},
     "execution_count": 1
    }
   ],
   "metadata": {}
  },
  {
   "cell_type": "code",
   "execution_count": 2,
   "source": [
    "# imports\r\n",
    "import numpy as np\r\n",
    "import pandas as pd\r\n",
    "\r\n",
    "from scipy.cluster.hierarchy import dendrogram, linkage"
   ],
   "outputs": [],
   "metadata": {}
  },
  {
   "cell_type": "code",
   "execution_count": 3,
   "source": [
    "fr = {\r\n",
    "    'A': [1, 2, 3, 4],\r\n",
    "    'B': [4, 5, 6, 7]\r\n",
    "}\r\n",
    "\r\n",
    "df = pd.DataFrame(fr)\r\n",
    "print(df)"
   ],
   "outputs": [
    {
     "output_type": "stream",
     "name": "stdout",
     "text": [
      "   A  B\n",
      "0  1  4\n",
      "1  2  5\n",
      "2  3  6\n",
      "3  4  7\n"
     ]
    }
   ],
   "metadata": {}
  },
  {
   "cell_type": "code",
   "execution_count": 4,
   "source": [
    "np.max(df.values)"
   ],
   "outputs": [
    {
     "output_type": "execute_result",
     "data": {
      "text/plain": [
       "7"
      ]
     },
     "metadata": {},
     "execution_count": 4
    }
   ],
   "metadata": {}
  },
  {
   "cell_type": "code",
   "execution_count": 5,
   "source": [
    "arr_test = [(1, 5), (0, 1), (2, 0)]\r\n",
    "\r\n",
    "arr_test.sort(key=lambda item: item[1], reverse=True)\r\n",
    "\r\n",
    "arr_test"
   ],
   "outputs": [
    {
     "output_type": "execute_result",
     "data": {
      "text/plain": [
       "[(1, 5), (0, 1), (2, 0)]"
      ]
     },
     "metadata": {},
     "execution_count": 5
    }
   ],
   "metadata": {}
  },
  {
   "cell_type": "code",
   "execution_count": 6,
   "source": [
    "# imports for plots\r\n",
    "from plotly import graph_objects as go\r\n",
    "import plotly.express as px\r\n",
    "from plotly.subplots import make_subplots\r\n",
    "import plotly.io as pio\r\n",
    "\r\n",
    "pio.templates.default = \"plotly_white\""
   ],
   "outputs": [],
   "metadata": {}
  },
  {
   "cell_type": "code",
   "execution_count": 7,
   "source": [
    "# load data\r\n",
    "data_beni_mellal = pd.read_csv(\"processed_data/processed_beni_mellal.csv\")"
   ],
   "outputs": [],
   "metadata": {}
  },
  {
   "cell_type": "code",
   "execution_count": 8,
   "source": [
    "# # main function\r\n",
    "\r\n",
    "# def univariate_clustering(data, col_name, nb_clusters=3, metric=\"euclidean\", linkage_method=\"ward\"):\r\n",
    "#     # prepare data\r\n",
    "#     frame = {}\r\n",
    "\r\n",
    "#     for year in data[\"crop_year\"].value_counts().sort_index().index:\r\n",
    "#         # select crop year\r\n",
    "#         query = data[\"crop_year\"] == year\r\n",
    "#         frame[year] = data[query][col_name].values\r\n",
    "\r\n",
    "#     # build data and then transpose\r\n",
    "#     data_cluster = pd.DataFrame(frame)\r\n",
    "#     data_cluster = data_cluster.T\r\n",
    "\r\n",
    "#     # check\r\n",
    "#     # Z = linkage(data_cluster, metric=metric, method=linkage_method)\r\n",
    "#     # # fig = plt.figure(figsize=(25, 10))\r\n",
    "#     # dn = dendrogram(Z)\r\n",
    "\r\n",
    "#     # perform clustring for k = nb_cluster\r\n",
    "#     from sklearn.cluster import AgglomerativeClustering\r\n",
    "\r\n",
    "\r\n",
    "#     # data\r\n",
    "#     X = data_cluster\r\n",
    "\r\n",
    "#     # build clustering model\r\n",
    "#     model = AgglomerativeClustering(n_clusters=nb_clusters, linkage=linkage_method, affinity=metric)\r\n",
    "#     model = model.fit(X)\r\n",
    "\r\n",
    "#     # assign cluster label to each observation\r\n",
    "#     data_cluster[f\"cluster_{col_name}\"] = model.fit_predict(data_cluster)\r\n",
    "\r\n",
    "#     # isolate each cluster\r\n",
    "#     dict_cluster = {}\r\n",
    "#     # to store max val of each cluster\r\n",
    "#     arr_max_vals = []\r\n",
    "\r\n",
    "#     for cluster_index in range(nb_clusters):\r\n",
    "#         query = data_cluster[f\"cluster_{col_name}\"] == cluster_index\r\n",
    "\r\n",
    "#         # drop col of cluster\r\n",
    "#         copy_data = data_cluster[query].copy()\r\n",
    "#         copy_data = copy_data.drop(labels=[f\"cluster_{col_name}\"], axis=1)\r\n",
    "\r\n",
    "#         dict_cluster[cluster_index] = copy_data\r\n",
    "#         arr_max_vals.append(\r\n",
    "#             (cluster_index, np.max(copy_data.values))\r\n",
    "#             )\r\n",
    "\r\n",
    "#     # give name to clusters { High, medium, low }\r\n",
    "#     arr_max_vals.sort(key=lambda item: item[1], reverse=True)\r\n",
    "\r\n",
    "#     for key, new_cluster_name in zip([item[0] for item in arr_max_vals], [\"High\", \"Medium\", \"Low\"]):\r\n",
    "#         dict_cluster[new_cluster_name] = dict_cluster.pop(key)\r\n",
    "\r\n",
    "#     # return dict { cluster_name: arr_years }\r\n",
    "#     return { key: val.index for key, val in dict_cluster.items() }"
   ],
   "outputs": [],
   "metadata": {}
  },
  {
   "cell_type": "code",
   "execution_count": 9,
   "source": [
    "from py_scripts.clustering import univariate_clustering\r\n",
    "\r\n",
    "univariate_clustering(data_beni_mellal, col_name=\"cumulative_PRECTOT\")"
   ],
   "outputs": [
    {
     "output_type": "execute_result",
     "data": {
      "text/plain": [
       "{'High': Int64Index([1982, 1987, 1991, 1996, 1997, 2009, 2010, 2011, 2013], dtype='int64'),\n",
       " 'Medium': Int64Index([1988, 1989, 1990, 1994, 1998, 2001, 2003, 2004, 2006, 2008, 2012,\n",
       "             2015],\n",
       "            dtype='int64'),\n",
       " 'Low': Int64Index([1983, 1984, 1985, 1986, 1992, 1993, 1995, 1999, 2000, 2002, 2005,\n",
       "             2007, 2014, 2016, 2017, 2018, 2019, 2020],\n",
       "            dtype='int64')}"
      ]
     },
     "metadata": {},
     "execution_count": 9
    }
   ],
   "metadata": {}
  },
  {
   "cell_type": "code",
   "execution_count": 10,
   "source": [
    "# {'High': Int64Index([1982, 1987, 1991, 1996, 1997, 2009, 2010, 2011, 2013], dtype='int64'),\r\n",
    "#  'Medium': Int64Index([1988, 1989, 1990, 1994, 1998, 2001, 2003, 2004, 2006, 2008, 2012,\r\n",
    "#              2015],\r\n",
    "#             dtype='int64'),\r\n",
    "#  'Low': Int64Index([1983, 1984, 1985, 1986, 1992, 1993, 1995, 1999, 2000, 2002, 2005,\r\n",
    "#              2007, 2014, 2016, 2017, 2018, 2019, 2020],\r\n",
    "#             dtype='int64')}"
   ],
   "outputs": [],
   "metadata": {}
  }
 ],
 "metadata": {
  "orig_nbformat": 4,
  "language_info": {
   "name": "python",
   "version": "3.8.5",
   "mimetype": "text/x-python",
   "codemirror_mode": {
    "name": "ipython",
    "version": 3
   },
   "pygments_lexer": "ipython3",
   "nbconvert_exporter": "python",
   "file_extension": ".py"
  },
  "kernelspec": {
   "name": "python3",
   "display_name": "Python 3.8.5 64-bit ('base': conda)"
  },
  "interpreter": {
   "hash": "1e915f0a29dc84041eaeb02b7b1a21c440e37a87b61d44d5e84a515737dc82bc"
  }
 },
 "nbformat": 4,
 "nbformat_minor": 2
}