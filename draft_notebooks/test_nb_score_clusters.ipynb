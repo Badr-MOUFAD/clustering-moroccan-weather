{
 "cells": [
  {
   "cell_type": "code",
   "execution_count": 1,
   "source": [
    "# set root directory\r\n",
    "import os\r\n",
    "\r\n",
    "os.chdir(\"../\")\r\n",
    "os.getcwd()"
   ],
   "outputs": [
    {
     "output_type": "execute_result",
     "data": {
      "text/plain": [
       "'c:\\\\Users\\\\HP\\\\Desktop\\\\clustering-moroccan-weather-data'"
      ]
     },
     "metadata": {},
     "execution_count": 1
    }
   ],
   "metadata": {}
  },
  {
   "cell_type": "code",
   "execution_count": 2,
   "source": [
    "# imports\r\n",
    "import numpy as np\r\n",
    "import pandas as pd"
   ],
   "outputs": [],
   "metadata": {}
  },
  {
   "cell_type": "code",
   "execution_count": 3,
   "source": [
    "# imports for plots\r\n",
    "from plotly import graph_objects as go\r\n",
    "import plotly.express as px\r\n",
    "from plotly.subplots import make_subplots\r\n",
    "import plotly.io as pio\r\n",
    "\r\n",
    "pio.templates.default = \"plotly_white\""
   ],
   "outputs": [],
   "metadata": {}
  },
  {
   "cell_type": "code",
   "execution_count": 4,
   "source": [
    "# load data\r\n",
    "data_beni_mellal = pd.read_csv(\"processed_data/processed_beni_mellal.csv\")"
   ],
   "outputs": [],
   "metadata": {}
  },
  {
   "cell_type": "code",
   "execution_count": 17,
   "source": [
    "# main function\r\n",
    "from sklearn.cluster import AgglomerativeClustering\r\n",
    "from sklearn import metrics\r\n",
    "from py_scripts.clustering import isolate_data_col\r\n",
    "\r\n",
    "\r\n",
    "# return --> { col_name, nb_clusters, score }\r\n",
    "def uni_variate_clusters(data, col_name, metric=\"euclidean\", linkage_method=\"ward\"):\r\n",
    "    # where to store CH index\r\n",
    "    arr_calanski = {}\r\n",
    "\r\n",
    "    # max possible number of cluster\r\n",
    "    max_k = 10\r\n",
    "\r\n",
    "    # data\r\n",
    "    X = isolate_data_col(data, col_name)\r\n",
    "\r\n",
    "    # loop over number of clusters\r\n",
    "    for k in range(2, max_k):\r\n",
    "        # build model \r\n",
    "        model = AgglomerativeClustering(n_clusters=k, linkage=linkage_method, affinity=metric)\r\n",
    "        model = model.fit(X)\r\n",
    "\r\n",
    "        # clusters label\r\n",
    "        labels = model.fit_predict(X)\r\n",
    "\r\n",
    "        # compute calanski metric\r\n",
    "        m = metrics.calinski_harabasz_score(X, labels)\r\n",
    "\r\n",
    "        arr_calanski[k] = m\r\n",
    "\r\n",
    "    # # plot of CH index\r\n",
    "    # fig = go.Figure(data=[\r\n",
    "    #                     go.Scatter(x=list(arr_calanski.keys()), y=list(arr_calanski.values()))\r\n",
    "    # ])\r\n",
    "\r\n",
    "    # fig.update_layout(\r\n",
    "    #     width=800,\r\n",
    "    #     height=500,\r\n",
    "    #     xaxis_title=\"number of cluster\",\r\n",
    "    #     yaxis_title=\"Calanski-Harbasz index\"\r\n",
    "    # )\r\n",
    "\r\n",
    "    # fig.show()\r\n",
    "\r\n",
    "    return max(arr_calanski.items(), key=lambda u: u[1])"
   ],
   "outputs": [],
   "metadata": {}
  },
  {
   "cell_type": "code",
   "execution_count": 18,
   "source": [
    "uni_variate_clusters(data_beni_mellal, col_name=\"cumulative_PRECTOT\")"
   ],
   "outputs": [
    {
     "output_type": "execute_result",
     "data": {
      "text/plain": [
       "(3, 45.294671095931115)"
      ]
     },
     "metadata": {},
     "execution_count": 18
    }
   ],
   "metadata": {}
  },
  {
   "cell_type": "code",
   "execution_count": 21,
   "source": [
    "for col in [\"cumulative_PRECTOT\", \"cumulative_GDD\", \"cumulative_RH2M\", \"cumulative_WS2M\"]:\r\n",
    "    m = uni_variate_clusters(data_beni_mellal, col_name=col)\r\n",
    "\r\n",
    "    print(f\"{col}:\\n\\tscore: {m[1]}\\tnb_clusters: {m[0]}\")"
   ],
   "outputs": [
    {
     "output_type": "stream",
     "name": "stdout",
     "text": [
      "cumulative_PRECTOT:\n",
      "\tscore: 45.294671095931115\tnb_clusters: 3\n",
      "cumulative_GDD:\n",
      "\tscore: 42.63559470340032\tnb_clusters: 2\n",
      "cumulative_RH2M:\n",
      "\tscore: 46.200198373893926\tnb_clusters: 2\n",
      "cumulative_WS2M:\n",
      "\tscore: 38.14937962275176\tnb_clusters: 2\n"
     ]
    }
   ],
   "metadata": {}
  },
  {
   "cell_type": "code",
   "execution_count": null,
   "source": [],
   "outputs": [],
   "metadata": {}
  }
 ],
 "metadata": {
  "orig_nbformat": 4,
  "language_info": {
   "name": "python",
   "version": "3.8.5",
   "mimetype": "text/x-python",
   "codemirror_mode": {
    "name": "ipython",
    "version": 3
   },
   "pygments_lexer": "ipython3",
   "nbconvert_exporter": "python",
   "file_extension": ".py"
  },
  "kernelspec": {
   "name": "python3",
   "display_name": "Python 3.8.5 64-bit ('base': conda)"
  },
  "interpreter": {
   "hash": "1e915f0a29dc84041eaeb02b7b1a21c440e37a87b61d44d5e84a515737dc82bc"
  }
 },
 "nbformat": 4,
 "nbformat_minor": 2
}